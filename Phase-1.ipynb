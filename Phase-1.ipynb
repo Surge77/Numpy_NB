{
 "cells": [
  {
   "cell_type": "code",
   "execution_count": 4,
   "metadata": {},
   "outputs": [],
   "source": [
    "import numpy as np"
   ]
  },
  {
   "cell_type": "markdown",
   "metadata": {},
   "source": [
    "## Creating array from list"
   ]
  },
  {
   "cell_type": "code",
   "execution_count": 4,
   "metadata": {},
   "outputs": [
    {
     "name": "stdout",
     "output_type": "stream",
     "text": [
      "1D array:  [1 2 3 4 5 6 7]\n",
      "2D array:  [[1 2 3 4 5]\n",
      " [2 4 6 4 3]]\n"
     ]
    }
   ],
   "source": [
    "arr_id = np.array([1,2,3,4,5,6,7])\n",
    "print(\"1D array: \",arr_id)\n",
    "\n",
    "arr_2d = np.array([[1,2,3,4,5],[2,4,6,4,3]])\n",
    "print(\"2D array: \",arr_2d)"
   ]
  },
  {
   "cell_type": "markdown",
   "metadata": {},
   "source": [
    "# List vs numpy array"
   ]
  },
  {
   "cell_type": "code",
   "execution_count": null,
   "metadata": {},
   "outputs": [
    {
     "name": "stdout",
     "output_type": "stream",
     "text": [
      "Multiplication:  [1, 2, 3, 4, 1, 2, 3, 4]\n",
      "Multiplication:  [2 4 6 8]\n"
     ]
    }
   ],
   "source": [
    "py_list = [1,2,3,4]\n",
    "print(\"Multiplication: \",py_list*2)\n",
    "# Here the list gets concatenated when we try to multiply\n",
    "\n",
    "np_arr = np.array([1,2,3,4])\n",
    "print(\"Multiplication: \",np_arr*2)\n",
    "# Element wise multiplication"
   ]
  },
  {
   "cell_type": "markdown",
   "metadata": {},
   "source": [
    "# Creating an array from scratch"
   ]
  },
  {
   "cell_type": "code",
   "execution_count": null,
   "metadata": {},
   "outputs": [
    {
     "name": "stdout",
     "output_type": "stream",
     "text": [
      "Zeroes: \n",
      " [[0. 0. 0. 0.]\n",
      " [0. 0. 0. 0.]\n",
      " [0. 0. 0. 0.]]\n",
      "Zeroes: \n",
      " [[1. 1. 1. 1.]\n",
      " [1. 1. 1. 1.]\n",
      " [1. 1. 1. 1.]]\n",
      "full array: \n",
      " [[7 7]\n",
      " [7 7]]\n",
      "random array: \n",
      " [[0.6166971  0.26126325 0.4198518 ]\n",
      " [0.32195149 0.82672117 0.13043674]]\n",
      "sequnce array: \n",
      " [ 0  2  4  6  8 10]\n"
     ]
    }
   ],
   "source": [
    "# Array of zeroes\n",
    "zeroes = np.zeros((3,4))\n",
    "print(\"Zeroes: \\n\",zeroes)\n",
    "\n",
    "\n",
    "# Array of ones\n",
    "ones = np.ones((3,4))\n",
    "print(\"Zeroes: \\n\",ones)\n",
    "\n",
    "# Array of constant values\n",
    "full = np.full((2, 2), 7)\n",
    "print(\"full array: \\n\", full)\n",
    "\n",
    "# generates random values from 0 to 1\n",
    "random = np.random.random((2, 3))\n",
    "print(\"random array: \\n\", random)\n",
    "\n",
    "# generates a sequence of numbers\n",
    "sequence = np.arange(0, 11, 2)\n",
    "print(\"sequence array: \\n\", sequence)"
   ]
  },
  {
   "cell_type": "markdown",
   "metadata": {},
   "source": [
    "# Vector, Matrix and Tensor"
   ]
  },
  {
   "cell_type": "code",
   "execution_count": 6,
   "metadata": {},
   "outputs": [
    {
     "name": "stdout",
     "output_type": "stream",
     "text": [
      "Vector:  [1 2 3]\n",
      "\n",
      "Matrix:  [[1 2 3]\n",
      " [4 5 6]]\n",
      "\n",
      "Tensor:  [[[1 2]\n",
      "  [3 4]]\n",
      "\n",
      " [[5 6]\n",
      "  [7 8]]]\n"
     ]
    }
   ],
   "source": [
    "vector = np.array([1, 2, 3])\n",
    "print(\"Vector: \", vector)\n",
    "\n",
    "# 2D array\n",
    "matrix = np.array([[1, 2, 3], [4, 5, 6]])\n",
    "print(\"\\nMatrix: \", matrix)\n",
    "\n",
    "# 3D array\n",
    "tensor = np.array([[[1, 2], [3, 4]], [[5, 6], [7, 8]]])\n",
    "print(\"\\nTensor: \", tensor)"
   ]
  },
  {
   "cell_type": "markdown",
   "metadata": {},
   "source": [
    "# Array Properties"
   ]
  },
  {
   "cell_type": "code",
   "execution_count": null,
   "metadata": {},
   "outputs": [
    {
     "name": "stdout",
     "output_type": "stream",
     "text": [
      "Shape  (2, 3)\n",
      "Dimension  2\n",
      "Size  6\n",
      "DType  int64\n",
      "Itemsize  8\n"
     ]
    }
   ],
   "source": [
    "arr = np.array([[1, 2, 3],\n",
    "                [4, 5, 6]])\n",
    "print(\"Shape \", arr.shape)\n",
    "print(\"Dimension \", arr.ndim) # n dimensions\n",
    "print(\"Size \", arr.size)\n",
    "print(\"DType \", arr.dtype) # data type"
   ]
  },
  {
   "cell_type": "markdown",
   "metadata": {},
   "source": [
    "# Array Reshaping"
   ]
  },
  {
   "cell_type": "code",
   "execution_count": null,
   "metadata": {},
   "outputs": [
    {
     "name": "stdout",
     "output_type": "stream",
     "text": [
      "Original array  [ 0  1  2  3  4  5  6  7  8  9 10 11]\n",
      "\n",
      " Reshaped array  [[ 0  1  2  3]\n",
      " [ 4  5  6  7]\n",
      " [ 8  9 10 11]]\n",
      "\n",
      " Flattened array  [ 0  1  2  3  4  5  6  7  8  9 10 11]\n",
      "\n",
      " raveled array  [ 0  1  2  3  4  5  6  7  8  9 10 11]\n",
      "\n",
      " Transposed array  [[ 0  4  8]\n",
      " [ 1  5  9]\n",
      " [ 2  6 10]\n",
      " [ 3  7 11]]\n"
     ]
    }
   ],
   "source": [
    "arr = np.arange(12)\n",
    "print(\"Original array \", arr)\n",
    "\n",
    "# Converts our array into 3 by 4 matrix\n",
    "reshaped = arr.reshape((3, 4))\n",
    "print(\"\\n Reshaped array \", reshaped)\n",
    "\n",
    "# Flattens the array into 1D matrix\n",
    "flattened = reshaped.flatten()\n",
    "print(\"\\n Flattened array \", flattened)\n",
    "\n",
    "# ravel (returns view, instead of copy)\n",
    "raveled = reshaped.ravel()\n",
    "print(\"\\n raveled array \", raveled)\n",
    "\n",
    "# Transpose\n",
    "transpose = reshaped.T\n",
    "print(\"\\n Transposed array \", transpose)"
   ]
  },
  {
   "cell_type": "code",
   "execution_count": null,
   "metadata": {},
   "outputs": [],
   "source": []
  }
 ],
 "metadata": {
  "kernelspec": {
   "display_name": ".venv",
   "language": "python",
   "name": "python3"
  },
  "language_info": {
   "codemirror_mode": {
    "name": "ipython",
    "version": 3
   },
   "file_extension": ".py",
   "mimetype": "text/x-python",
   "name": "python",
   "nbconvert_exporter": "python",
   "pygments_lexer": "ipython3",
   "version": "3.11.9"
  }
 },
 "nbformat": 4,
 "nbformat_minor": 2
}
